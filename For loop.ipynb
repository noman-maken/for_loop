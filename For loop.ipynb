{
 "cells": [
  {
   "cell_type": "markdown",
   "metadata": {},
   "source": [
    "# For Loop"
   ]
  },
  {
   "cell_type": "code",
   "execution_count": 1,
   "metadata": {},
   "outputs": [
    {
     "name": "stdout",
     "output_type": "stream",
     "text": [
      "Bags\n",
      "Pencils\n",
      "Laptops\n"
     ]
    }
   ],
   "source": [
    "products = [\"Bags\", \"Pencils\", \"Laptops\"]\n",
    "for variable_1 in products:\n",
    "    print(variable_1)"
   ]
  },
  {
   "cell_type": "code",
   "execution_count": 2,
   "metadata": {},
   "outputs": [
    {
     "name": "stdout",
     "output_type": "stream",
     "text": [
      "['bags', 6]\n",
      "['Books', 8]\n",
      "['laptops', 5]\n"
     ]
    }
   ],
   "source": [
    "products_2 = [[\"bags\",6],[\"Books\",8],[\"laptops\",5]]\n",
    "for variable_2 in products_2:\n",
    "    print(variable_2)"
   ]
  },
  {
   "cell_type": "code",
   "execution_count": 42,
   "metadata": {},
   "outputs": [
    {
     "name": "stdout",
     "output_type": "stream",
     "text": [
      "bags :  Quantity is 6\n",
      "Books :  Quantity is 8\n",
      "laptops :  Quantity is 5\n"
     ]
    }
   ],
   "source": [
    "products_2 = [[\"bags\",6],[\"Books\",8],[\"laptops\",5]]\n",
    "for variable_2, variable_3 in products_2:\n",
    "    print(variable_2, \": \" , \"Quantity is\", variable_3)"
   ]
  },
  {
   "cell_type": "code",
   "execution_count": 9,
   "metadata": {},
   "outputs": [
    {
     "name": "stdout",
     "output_type": "stream",
     "text": [
      "bags\n",
      "Books\n",
      "laptops\n"
     ]
    }
   ],
   "source": [
    "product_3 = [[\"bags\",6],[\"Books\",8],[\"laptops\",5]]\n",
    "dict1 = dict(product_3)\n",
    "for variable_3 in dict1:\n",
    "    print(variable_3)"
   ]
  },
  {
   "cell_type": "code",
   "execution_count": null,
   "metadata": {},
   "outputs": [],
   "source": [
    "Python effiecient key/value hash table structure is called a dict {}"
   ]
  },
  {
   "cell_type": "code",
   "execution_count": 47,
   "metadata": {},
   "outputs": [
    {
     "name": "stdout",
     "output_type": "stream",
     "text": [
      "68\n",
      "11\n",
      "45\n"
     ]
    }
   ],
   "source": [
    "number1 = [int, float, \"Books\", \"laptops\",76.0,68,2,3,4/9,7,9,11,45,\"kjdfjfj\"]\n",
    "for value in number1:\n",
    "    if str(value).isnumeric() and value>10:\n",
    "        print(value)"
   ]
  },
  {
   "cell_type": "code",
   "execution_count": 50,
   "metadata": {},
   "outputs": [
    {
     "name": "stdout",
     "output_type": "stream",
     "text": [
      "Enter the Number: 234567890\n",
      "2\n",
      "5\n",
      "9\n",
      "14\n",
      "20\n",
      "27\n",
      "35\n",
      "44\n",
      "44\n"
     ]
    }
   ],
   "source": [
    "num = input(\"Enter the Number: \")\n",
    "total = 0\n",
    "for i in num:\n",
    "    total += int(i)\n",
    "    print(total) #5+9+8"
   ]
  },
  {
   "cell_type": "code",
   "execution_count": 53,
   "metadata": {},
   "outputs": [
    {
     "name": "stdout",
     "output_type": "stream",
     "text": [
      "Enter the Number: 392\n",
      "3\n",
      "12\n",
      "14\n"
     ]
    }
   ],
   "source": [
    "num = input(\"Enter the Number: \")\n",
    "total = 0\n",
    "for usama in num:\n",
    "    total += int(usama)\n",
    "    print(total)"
   ]
  },
  {
   "cell_type": "code",
   "execution_count": 51,
   "metadata": {},
   "outputs": [
    {
     "name": "stdout",
     "output_type": "stream",
     "text": [
      "The sum is 22\n"
     ]
    }
   ],
   "source": [
    "numbers = [4,5,6,7]\n",
    "sum = 0\n",
    "for val in numbers:\n",
    "    sum = sum+val\n",
    "print(\"The sum is\",sum)"
   ]
  },
  {
   "cell_type": "markdown",
   "metadata": {},
   "source": [
    "# Looping Through a String"
   ]
  },
  {
   "cell_type": "code",
   "execution_count": 16,
   "metadata": {},
   "outputs": [
    {
     "name": "stdout",
     "output_type": "stream",
     "text": [
      "N\n",
      "o\n",
      "m\n",
      "a\n",
      "n\n"
     ]
    }
   ],
   "source": [
    "for x in \"Noman\":\n",
    "    print(x)"
   ]
  },
  {
   "cell_type": "code",
   "execution_count": 58,
   "metadata": {},
   "outputs": [
    {
     "name": "stdout",
     "output_type": "stream",
     "text": [
      "Value is: 1234567890\n",
      "1\n",
      "2\n",
      "3\n",
      "4\n",
      "5\n",
      "6\n",
      "7\n",
      "8\n",
      "9\n",
      "0\n"
     ]
    }
   ],
   "source": [
    "name = input(\"Value is: \")\n",
    "for r in name:\n",
    "    print(r)"
   ]
  },
  {
   "cell_type": "code",
   "execution_count": 18,
   "metadata": {},
   "outputs": [
    {
     "name": "stdout",
     "output_type": "stream",
     "text": [
      "N\n",
      "o\n",
      "m\n",
      "a\n",
      "n\n"
     ]
    }
   ],
   "source": [
    "for variable_4 in \"Noman\":\n",
    "    print(variable_4)"
   ]
  },
  {
   "cell_type": "code",
   "execution_count": 63,
   "metadata": {},
   "outputs": [
    {
     "name": "stdout",
     "output_type": "stream",
     "text": [
      "1 s\n",
      "1 d\n",
      "1 f\n",
      "1 g\n",
      "1 h\n",
      "1 j\n",
      "1 k\n",
      "1 l\n",
      "2 s\n",
      "2 d\n",
      "2 f\n",
      "2 g\n",
      "2 h\n",
      "2 j\n",
      "2 k\n",
      "2 l\n",
      "3 s\n",
      "3 d\n",
      "3 f\n",
      "3 g\n",
      "3 h\n",
      "3 j\n",
      "3 k\n",
      "3 l\n",
      "4 s\n",
      "4 d\n",
      "4 f\n",
      "4 g\n",
      "4 h\n",
      "4 j\n",
      "4 k\n",
      "4 l\n",
      "5 s\n",
      "5 d\n",
      "5 f\n",
      "5 g\n",
      "5 h\n",
      "5 j\n",
      "5 k\n",
      "5 l\n",
      "6 s\n",
      "6 d\n",
      "6 f\n",
      "6 g\n",
      "6 h\n",
      "6 j\n",
      "6 k\n",
      "6 l\n"
     ]
    }
   ],
   "source": [
    "variable_5 = [1,2,3,4,5,6]\n",
    "for numb in variable_5:\n",
    "    for letter in 'sdfghjkl':\n",
    "        print(numb, letter)"
   ]
  },
  {
   "cell_type": "code",
   "execution_count": 24,
   "metadata": {},
   "outputs": [
    {
     "name": "stdout",
     "output_type": "stream",
     "text": [
      "The Letters is a The numbers is 1\n",
      "The Letters is b The numbers is 1\n",
      "The Letters is c The numbers is 1\n",
      "The Letters is d The numbers is 1\n",
      "The Letters is a The numbers is 2\n",
      "The Letters is b The numbers is 2\n",
      "The Letters is c The numbers is 2\n",
      "The Letters is d The numbers is 2\n",
      "The Letters is a The numbers is 3\n",
      "The Letters is b The numbers is 3\n",
      "The Letters is c The numbers is 3\n",
      "The Letters is d The numbers is 3\n",
      "The Letters is a The numbers is 4\n",
      "The Letters is b The numbers is 4\n",
      "The Letters is c The numbers is 4\n",
      "The Letters is d The numbers is 4\n",
      "The Letters is a The numbers is 5\n",
      "The Letters is b The numbers is 5\n",
      "The Letters is c The numbers is 5\n",
      "The Letters is d The numbers is 5\n",
      "The Letters is a The numbers is 6\n",
      "The Letters is b The numbers is 6\n",
      "The Letters is c The numbers is 6\n",
      "The Letters is d The numbers is 6\n"
     ]
    }
   ],
   "source": [
    "variable_5 = [1,2,3,4,5,6]\n",
    "for numb in variable_5:\n",
    "    for letter in 'abcd':\n",
    "        print(\"The Letters is\",letter,\"The numbers is\", numb)"
   ]
  },
  {
   "cell_type": "markdown",
   "metadata": {},
   "source": [
    "# Break Statement"
   ]
  },
  {
   "cell_type": "code",
   "execution_count": 27,
   "metadata": {},
   "outputs": [
    {
     "name": "stdout",
     "output_type": "stream",
     "text": [
      "Bags\n"
     ]
    }
   ],
   "source": [
    "products_5 = [\"Bags\", \"Pencils\", \"Laptops\"]\n",
    "for a in products_5:\n",
    "    print(a)\n",
    "    if a == \"Bags\":\n",
    "        break\n",
    "    print(a)"
   ]
  },
  {
   "cell_type": "code",
   "execution_count": 28,
   "metadata": {},
   "outputs": [
    {
     "name": "stdout",
     "output_type": "stream",
     "text": [
      "1\n",
      "2\n",
      "Number Found\n"
     ]
    }
   ],
   "source": [
    "num1 = [1,2,3,4,5]\n",
    "for num in num1:\n",
    "    if num==3:\n",
    "        print('Number Found')\n",
    "        break\n",
    "    print(num)    "
   ]
  },
  {
   "cell_type": "markdown",
   "metadata": {},
   "source": [
    "# Continue Statement"
   ]
  },
  {
   "cell_type": "code",
   "execution_count": 29,
   "metadata": {},
   "outputs": [
    {
     "name": "stdout",
     "output_type": "stream",
     "text": [
      "1\n",
      "2\n",
      "Number Found\n",
      "4\n",
      "5\n"
     ]
    }
   ],
   "source": [
    "num1 = [1,2,3,4,5]\n",
    "for num in num1:\n",
    "    if num==3:\n",
    "        print('Number Found')\n",
    "        continue\n",
    "    print(num)    "
   ]
  },
  {
   "cell_type": "markdown",
   "metadata": {},
   "source": [
    "# Range Function"
   ]
  },
  {
   "cell_type": "code",
   "execution_count": 30,
   "metadata": {},
   "outputs": [
    {
     "name": "stdout",
     "output_type": "stream",
     "text": [
      "0\n",
      "1\n",
      "2\n",
      "3\n",
      "4\n",
      "5\n",
      "6\n"
     ]
    }
   ],
   "source": [
    "for variable_7 in range(7):\n",
    "    print(variable_7)"
   ]
  },
  {
   "cell_type": "code",
   "execution_count": 31,
   "metadata": {},
   "outputs": [
    {
     "name": "stdout",
     "output_type": "stream",
     "text": [
      "0\n",
      "1\n",
      "2\n",
      "3\n",
      "4\n",
      "5\n",
      "6\n",
      "7\n",
      "8\n",
      "9\n"
     ]
    }
   ],
   "source": [
    "for variable_7 in range(10):\n",
    "    print(variable_7)"
   ]
  },
  {
   "cell_type": "code",
   "execution_count": 32,
   "metadata": {},
   "outputs": [
    {
     "name": "stdout",
     "output_type": "stream",
     "text": [
      "2\n",
      "3\n",
      "4\n",
      "5\n",
      "6\n"
     ]
    }
   ],
   "source": [
    "for variable_8 in range(2,7):\n",
    "    print(variable_8)"
   ]
  },
  {
   "cell_type": "code",
   "execution_count": 33,
   "metadata": {},
   "outputs": [
    {
     "name": "stdout",
     "output_type": "stream",
     "text": [
      "2\n",
      "5\n",
      "8\n",
      "11\n",
      "14\n",
      "17\n",
      "20\n",
      "23\n",
      "26\n",
      "29\n"
     ]
    }
   ],
   "source": [
    "for variable_8 in range(2,30,3):\n",
    "    print(variable_8)"
   ]
  },
  {
   "cell_type": "code",
   "execution_count": 38,
   "metadata": {},
   "outputs": [
    {
     "name": "stdout",
     "output_type": "stream",
     "text": [
      "6\n",
      "13\n",
      "20\n",
      "27\n"
     ]
    }
   ],
   "source": [
    "for variable_8 in range(6,30,7):\n",
    "    print(variable_8)"
   ]
  },
  {
   "cell_type": "code",
   "execution_count": 41,
   "metadata": {},
   "outputs": [
    {
     "name": "stdout",
     "output_type": "stream",
     "text": [
      "range(0, 10)\n",
      "[0, 1, 2, 3, 4, 5, 6, 7, 8, 9]\n",
      "[2, 3, 4, 5, 6, 7]\n",
      "[2, 9, 16, 23, 30, 37, 44, 51, 58, 65, 72, 79, 86]\n"
     ]
    }
   ],
   "source": [
    "print(range(10))\n",
    "print(list(range(10)))\n",
    "print(list(range(2,8)))\n",
    "print(list(range(2,87,7)))"
   ]
  },
  {
   "cell_type": "code",
   "execution_count": 46,
   "metadata": {},
   "outputs": [
    {
     "name": "stdout",
     "output_type": "stream",
     "text": [
      "Hello Noman\n",
      "Your application is accepted for Ai\n"
     ]
    }
   ],
   "source": [
    "name= \"Noman\"\n",
    "Class = \"Ai\"\n",
    "msg = \"\"\"Hello {}\n",
    "Your application is accepted for {}\"\"\".format(name,Class)\n",
    "print(msg)"
   ]
  },
  {
   "cell_type": "code",
   "execution_count": null,
   "metadata": {},
   "outputs": [],
   "source": []
  }
 ],
 "metadata": {
  "kernelspec": {
   "display_name": "Python 3",
   "language": "python",
   "name": "python3"
  },
  "language_info": {
   "codemirror_mode": {
    "name": "ipython",
    "version": 3
   },
   "file_extension": ".py",
   "mimetype": "text/x-python",
   "name": "python",
   "nbconvert_exporter": "python",
   "pygments_lexer": "ipython3",
   "version": "3.7.6"
  }
 },
 "nbformat": 4,
 "nbformat_minor": 4
}
